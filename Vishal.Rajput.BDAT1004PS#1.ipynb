{
 "cells": [
  {
   "cell_type": "markdown",
   "id": "e2399f68",
   "metadata": {},
   "source": [
    "# Question 1 C# What data type is each of the following?"
   ]
  },
  {
   "cell_type": "code",
   "execution_count": null,
   "id": "00e21f14",
   "metadata": {},
   "outputs": [],
   "source": [
    "#answer 1\n",
    "\n",
    "5         integer\n",
    "5.0       double\n",
    "5 > 1     Relational/comparison operator \n",
    "'5'       Character\n",
    "5 * 2     Arithmatic operator \n",
    "'5' * 2   Arithmatic operator \n",
    "'5' + '2' Arithmatic operator\n",
    "5 / 2     Arithmatic operator\n",
    "5 % 2     Arithmatic operator\n",
    "{5, 2, 1} Array\n",
    "5 == 3    Assignment operator\n",
    "Pi(the number) math operator\n"
   ]
  },
  {
   "cell_type": "markdown",
   "id": "1cc4c5f1",
   "metadata": {},
   "source": [
    "# Question 2 C#\n",
    "\n",
    "Write (and evaluate) C# expressions that answer these questions: a. How many letters are there in 'Supercalifragilisticexpialidocious'? b. Does 'Supercalifragilisticexpialidocious' contain 'ice' as a substring? c. Which of the following words is the longest: Supercalifragilisticexpialidocious, Honorificabilitudinitatibus, or Bababadalgharaghtakamminarronnkonn? d. Which composer comes first in the dictionary: 'Berlioz', 'Borodin', 'Brian', 'Bartok', 'Bellini', 'Buxtehude', 'Bernstein'. Which one comes last?\n"
   ]
  },
  {
   "cell_type": "code",
   "execution_count": null,
   "id": "45c149bf",
   "metadata": {},
   "outputs": [],
   "source": [
    "#answer 2a\n",
    "\n",
    "string word =\"Supercalifragilisticexpialidocious\";\n",
    "int countofletters = word.Length;\n",
    "Console.WriteLine(countofletters);"
   ]
  },
  {
   "cell_type": "code",
   "execution_count": null,
   "id": "ac390d74",
   "metadata": {},
   "outputs": [],
   "source": [
    "# output : 34"
   ]
  },
  {
   "cell_type": "code",
   "execution_count": null,
   "id": "15d5b322",
   "metadata": {},
   "outputs": [],
   "source": [
    "#answer 2b\n",
    "\n",
    "string word =\"Supercalifragilisticexpialidocious\";\n",
    "string substring =\"ice\";\n",
    "bool containsubstring = word.Contains(substring);\n",
    "Console.WriteLine(containsubstring);"
   ]
  },
  {
   "cell_type": "code",
   "execution_count": null,
   "id": "23864811",
   "metadata": {},
   "outputs": [],
   "source": [
    "# output : True"
   ]
  },
  {
   "cell_type": "code",
   "execution_count": null,
   "id": "35ab6237",
   "metadata": {},
   "outputs": [],
   "source": [
    "#answer 2c\n",
    "\n",
    "\n",
    "string wordone = \"Supercalifragilisticexpialidocious\";\n",
    "string wordtwo = \"Honorificabilitudinitatibus\";\n",
    "string wordthree = \"Bababadalgharaghtakamminarronnkonn\";\n",
    "\n",
    "                   if (wordone.Length>wordtwo.Length)\n",
    "                   {\n",
    "                        if (wordone.Length>wordthree.Length)\n",
    "                        {\n",
    "                              Console.WriteLine(\"{0} is the largest\", wordone);\n",
    "                        }\n",
    "                        else\n",
    "                        {\n",
    "                               Console.WriteLine(\"{0} is the largest\", wordthree);\n",
    "                        }\n",
    "                   }\n",
    "                   else\n",
    "                   {\n",
    "                        if (wordtwo.Length>wordthree.Length)\n",
    "                        {\n",
    "                              Console.WriteLine(\"{0} is the largest\", wordtwo);\n",
    "                        }\n",
    "                        else\n",
    "                       {\n",
    "                               Console.WriteLine(\"{0} is the largest\", wordthree);\n",
    "                       }\n",
    "                   }\n"
   ]
  },
  {
   "cell_type": "code",
   "execution_count": null,
   "id": "7b5f8904",
   "metadata": {},
   "outputs": [],
   "source": [
    "# output : Bababadalgharaghtakamminarronnkonn is the largest"
   ]
  },
  {
   "cell_type": "code",
   "execution_count": null,
   "id": "a27086cc",
   "metadata": {},
   "outputs": [],
   "source": [
    "#answer 2d\n",
    "\n",
    "SortedDictionary<string, string> names = new SortedDictionary<string, string>(); \n",
    "           names.Add(\"3\", \"Berlioz\"); \n",
    "           names.Add(\"5\", \"Borodin\");\n",
    "           names.Add(\"6\", \"Brian\");\n",
    "           names.Add(\"1\", \"Bartok\"); \n",
    "           names.Add(\"2\", \"Bellini\");\n",
    "           names.Add(\"7\", \"Buxtehude\");\n",
    "           names.Add(\"4\", \"Bernstein\");\n",
    "           foreach (KeyValuePair<string, string> kv in names)\n",
    "           {\n",
    "                 Console.WriteLine(kv.Key + \" \" + kv.Value);\n",
    "                 \n",
    "           }"
   ]
  },
  {
   "cell_type": "code",
   "execution_count": null,
   "id": "81b2d88d",
   "metadata": {},
   "outputs": [],
   "source": [
    "# output :\n",
    "\n",
    "1 Bartok\n",
    "2 Bellini\n",
    "3 Berlioz\n",
    "4 Bernstein\n",
    "5 Borodin\n",
    "6 Brian\n",
    "7 Buxtehude"
   ]
  },
  {
   "cell_type": "markdown",
   "id": "66f61c77",
   "metadata": {},
   "source": [
    "# Question 3 C#\n",
    "\n",
    "Implement function triangleArea(a,b,c) that takes as input the lengths of the 3 sides of a triangle and returns the area of the triangle. By Heron's formula, the area of a triangle with side lengths a, b, and c iss(s - a)(s - b)(s - c) , wheres = (a + b + c)/2 .\n",
    "\n",
    "            triangleArea(2,2,2) 1.7320508075688772\n",
    "\n"
   ]
  },
  {
   "cell_type": "code",
   "execution_count": null,
   "id": "1ab3e94a",
   "metadata": {},
   "outputs": [],
   "source": [
    "using System;\n",
    "\n",
    "class Triangle\n",
    "{\n",
    "    public double a;\n",
    "    public double b;\n",
    "    public double c;\n",
    "\n",
    "    public double GetArea()\n",
    "    {\n",
    "        double s = (a + b + c) / 2;\n",
    "        return Math.Sqrt(s * (s - a) * (s - b) * (s - c));\n",
    "    }\n",
    "\n",
    "    public void Display()\n",
    "    {\n",
    "        Console.WriteLine(\"Side 1: {0}\", a);\n",
    "        Console.WriteLine(\"Side 2: {0}\", b);\n",
    "        Console.WriteLine(\"Side 3: {0}\", c);\n",
    "        Console.WriteLine(\"Area: {0}\", GetArea());\n",
    "    }\n",
    "}\n",
    "\n",
    "class ExecuteTriangle\n",
    "{\n",
    "    static void Main(string[] args)\n",
    "    {\n",
    "        Triangle t = new Triangle();\n",
    "        t.a = 2;\n",
    "        t.b = 2;\n",
    "        t.c = 2;\n",
    "        t.Display();\n",
    "        Console.ReadLine();\n",
    "    }\n",
    "}"
   ]
  },
  {
   "cell_type": "code",
   "execution_count": null,
   "id": "354238c5",
   "metadata": {},
   "outputs": [],
   "source": [
    "# output : \n",
    "Side 1: 2\n",
    "Side 2: 2\n",
    "Side 3: 2\n",
    "Area: 1.7320508075688772"
   ]
  },
  {
   "cell_type": "markdown",
   "id": "ae630d5f",
   "metadata": {},
   "source": [
    "# Question 4 C#\n",
    "\n",
    "Write a program in C# Sharp to separate odd and even integers in separate arrays. Go to the editor Test Data : Input the number of elements to be stored in the array :5 Input 5 elements in the array : element - 0 : 25 element - 1 : 47 element - 2 : 42 element - 3 : 56 element - 4 : 32 Expected Output: The Even elements are: 42 56 32 The Odd elements are : 25 47\n"
   ]
  },
  {
   "cell_type": "code",
   "execution_count": null,
   "id": "4d61d9bf",
   "metadata": {},
   "outputs": [],
   "source": [
    "using System;\n",
    "\n",
    "public class Program\n",
    "{\n",
    "    public static void Main()\n",
    "    {\n",
    "        Console.WriteLine(\"Input the number of elements to be stored in the array: \");\n",
    "        int count = Convert.ToInt32(Console.ReadLine());\n",
    "\n",
    "        int[] numbers = new int[count];\n",
    "        int[] evenNumbers = new int[count];\n",
    "        int[] oddNumbers = new int[count];\n",
    "        int evenIndex = 0;\n",
    "        int oddIndex = 0;\n",
    "\n",
    "        Console.WriteLine($\"Input {count} elements in the array:\");\n",
    "        for (int i = 0; i < count; i++)\n",
    "        {\n",
    "            Console.Write($\"element - {i}: \");\n",
    "            numbers[i] = Convert.ToInt32(Console.ReadLine());\n",
    "\n",
    "            if (numbers[i] % 2 == 0)\n",
    "            {\n",
    "                evenNumbers[evenIndex] = numbers[i];\n",
    "                evenIndex++;\n",
    "            }\n",
    "            else\n",
    "            {\n",
    "                oddNumbers[oddIndex] = numbers[i];\n",
    "                oddIndex++;\n",
    "            }\n",
    "        }\n",
    "\n",
    "        Console.Write(\"The Even elements are: \");\n",
    "        for (int i = 0; i < evenIndex; i++)\n",
    "        {\n",
    "            Console.Write(evenNumbers[i] + \" \");\n",
    "        }\n",
    "\n",
    "        Console.WriteLine();\n",
    "\n",
    "        Console.Write(\"The Odd elements are: \");\n",
    "        for (int i = 0; i < oddIndex; i++)\n",
    "        {\n",
    "            Console.Write(oddNumbers[i] + \" \");\n",
    "        }\n",
    "\n",
    "        Console.WriteLine();\n",
    "    }\n",
    "}"
   ]
  },
  {
   "cell_type": "code",
   "execution_count": null,
   "id": "aa89e3ec",
   "metadata": {},
   "outputs": [],
   "source": [
    "# output :\n",
    "\n",
    "Input the number of elements to be stored in the array:\n",
    "5\n",
    "Input 5 elements in the array:\n",
    "element - 0: 12\n",
    "element - 1: 11\n",
    "element - 2: 10\n",
    "element - 3: 6\n",
    "element - 4: 4\n",
    "The Even elements are: 12 10 6 4\n",
    "The Odd elements are: 11"
   ]
  },
  {
   "cell_type": "markdown",
   "id": "15a80972",
   "metadata": {},
   "source": [
    "# Question 5 C#\n",
    "\n",
    "a. Write a function inside(x,y,x1,y1,x2,y2) that returns True or False depending on whether the point (x,y) lies in the rectangle with lower left corner (x1,y1) and upper right corner (x2,y2).\n",
    "\n",
    "            inside(1,1,0,0,2,3) True inside(-1,-1,0,0,2,3) False \n",
    "\n",
    "    b. Use function inside() from part a. to write an expression that tests whether the point (1,1) lies in both of the following rectangles: one with lower left corner (0.3, 0.5) and upper right corner (1.1, 0.7) and the other with lower left corner (0.5, 0.2) and upper right corner (1.1, 2).\n",
    "\n"
   ]
  },
  {
   "cell_type": "code",
   "execution_count": 2,
   "id": "2349f337",
   "metadata": {},
   "outputs": [
    {
     "ename": "SyntaxError",
     "evalue": "invalid syntax (1917609804.py, line 3)",
     "output_type": "error",
     "traceback": [
      "\u001b[1;36m  Cell \u001b[1;32mIn[2], line 3\u001b[1;36m\u001b[0m\n\u001b[1;33m    using System;\u001b[0m\n\u001b[1;37m          ^\u001b[0m\n\u001b[1;31mSyntaxError\u001b[0m\u001b[1;31m:\u001b[0m invalid syntax\n"
     ]
    }
   ],
   "source": [
    "#answer 5a\n",
    "\n",
    "using System;\n",
    "\n",
    "public class MainClass\n",
    "{\n",
    "    // Main method\n",
    "    public static void Main(string[] args)\n",
    "    {\n",
    "        // Declared variables and initialized bottom-left corner coordinates\n",
    "        int x1 = 0, y1 = 0;\n",
    "\n",
    "        // Declared variables and initialized top-right corner coordinates\n",
    "        int x2 = 2, y2 = 3;\n",
    "\n",
    "        // Declared variables and initialized point value which needs to be checked\n",
    "        int x = 1, y = 1;\n",
    "\n",
    "        // Calling the Inside function by passing all the point values as parameters\n",
    "        if (Inside(x, y, x1, y1, x2, y2))\n",
    "            Console.WriteLine(\"True\");\n",
    "        else\n",
    "            Console.WriteLine(\"False\");\n",
    "    }\n",
    "\n",
    "    // Function to check whether a given point lies inside a rectangle or not\n",
    "    static bool Inside(int x, int y, int x1, int y1, int x2, int y2)\n",
    "    {\n",
    "        // If it satisfies the condition\n",
    "        if (x > x1 && x < x2 && y > y1 && y < y2)\n",
    "        {\n",
    "            // Then return true\n",
    "            return true;\n",
    "        }\n",
    "\n",
    "        // Else return false\n",
    "        return false;\n",
    "    }\n",
    "}"
   ]
  },
  {
   "cell_type": "code",
   "execution_count": null,
   "id": "06096220",
   "metadata": {},
   "outputs": [],
   "source": [
    "# output : True"
   ]
  },
  {
   "cell_type": "code",
   "execution_count": null,
   "id": "ce4826ab",
   "metadata": {},
   "outputs": [],
   "source": [
    "#answer 5b\n",
    "\n",
    "using System;\n",
    "\n",
    "public class MainClass\n",
    "{\n",
    "    // Main method\n",
    "    public static void Main(string[] args)\n",
    "    {\n",
    "        // Rectangle 1\n",
    "        double x1Rect1 = 0.3, y1Rect1 = 0.5;\n",
    "        double x2Rect1 = 1.1, y2Rect1 = 0.7;\n",
    "\n",
    "        // Rectangle 2\n",
    "        double x1Rect2 = 0.5, y1Rect2 = 0.2;\n",
    "        double x2Rect2 = 1.1, y2Rect2 = 2;\n",
    "\n",
    "        // Point\n",
    "        double x = 1, y = 1;\n",
    "\n",
    "        // Check if the point lies in both rectangles\n",
    "        bool isInsideBothRectangles = Inside(x, y, x1Rect1, y1Rect1, x2Rect1, y2Rect1) &&\n",
    "                                      Inside(x, y, x1Rect2, y1Rect2, x2Rect2, y2Rect2);\n",
    "\n",
    "        // Print the result\n",
    "        if (isInsideBothRectangles)\n",
    "            Console.WriteLine(\"The point (1, 1) lies in both rectangles\");\n",
    "        else\n",
    "            Console.WriteLine(\"The point (1, 1) does not lie in both rectangles\");\n",
    "    }\n",
    "\n",
    "    // Function to check whether a given point lies inside a rectangle or not\n",
    "    static bool Inside(double x, double y, double x1, double y1, double x2, double y2)\n",
    "    {\n",
    "        // If it satisfies the condition\n",
    "        if (x >= x1 && x <= x2 && y >= y1 && y <= y2)\n",
    "        {\n",
    "            // Then return true\n",
    "            return true;\n",
    "        }\n",
    "\n",
    "        // Else return false\n",
    "        return false;\n",
    "    }\n",
    "}"
   ]
  },
  {
   "cell_type": "code",
   "execution_count": null,
   "id": "19c5de60",
   "metadata": {},
   "outputs": [],
   "source": [
    "# output : The point (1, 1) does not lie in both rectangles"
   ]
  },
  {
   "cell_type": "markdown",
   "id": "ac53df39",
   "metadata": {},
   "source": [
    "# Question 6 Python\n",
    "16. You can turn a word into pig-Latin using the following two rules (simplified):\n",
    "• If the word starts with a consonant, move that letter to the end and append\n",
    "'ay'. For example, 'happy' becomes 'appyhay' and 'pencil' becomes 'encilpay'.\n",
    "• If the word starts with a vowel, simply append 'way' to the end of the word.\n",
    "For example, 'enter' becomes 'enterway' and 'other' becomes 'otherway' . For\n",
    "our purposes, there are 5 vowels: a, e, i, o, u (so we count y as a consonant).\n",
    "Write a function pig() that takes a word (i.e., a string) as input and returns its pig-\n",
    "Latin form. Your function should still work if the input word contains upper case\n",
    "characters. Your output should always be lower case however.\n",
    ">>> pig('happy')\n",
    "'appyhay'\n",
    ">>> pig('Enter')\n",
    "'enterway'"
   ]
  },
  {
   "cell_type": "code",
   "execution_count": 2,
   "id": "e70868b6",
   "metadata": {},
   "outputs": [
    {
     "name": "stdout",
     "output_type": "stream",
     "text": [
      "happyay\n",
      "enterway\n"
     ]
    }
   ],
   "source": [
    "def pig(word):\n",
    "    vowels = ['a', 'e', 'i', 'o', 'u']\n",
    "\n",
    "    # Convert the word to lowercase\n",
    "    word = word.lower()\n",
    "\n",
    "    # Check if the word starts with a vowel\n",
    "    if word[0] in vowels:\n",
    "        return word + 'way'\n",
    "\n",
    "    # Move the first consonant to the end and append 'ay'\n",
    "    for i in range(len(word)):\n",
    "        if word[i] not in vowels:\n",
    "            return word[i:] + word[:i] + 'ay'\n",
    "\n",
    "        \n",
    "        print(pig('happy')) \n",
    "        print(pig('Enter')) \n",
    "\n",
    "\n"
   ]
  },
  {
   "cell_type": "markdown",
   "id": "58880c1e",
   "metadata": {},
   "source": [
    "# Question 7 Python\n",
    "File bloodtype1.txt records blood-types of patients (A, B, AB, O or OO) at a clinic.\n",
    "Write a function bldcount() that reads the file with name name and reports (i.e.,\n",
    "prints) how many patients there are in each bloodtype.\n",
    ">>> bldcount('bloodtype.txt')\n",
    "There are 10 patients of blood type A.\n",
    "There is one patient of blood type B.\n",
    "There are 10 patients of blood type AB.\n",
    "There are 12 patients of blood type O.\n",
    "There are no patients of blood type OO."
   ]
  },
  {
   "cell_type": "code",
   "execution_count": 18,
   "id": "c0df90c4",
   "metadata": {},
   "outputs": [
    {
     "name": "stdout",
     "output_type": "stream",
     "text": [
      "There are 15 patients of blood type A.\n",
      "There is one patient of blood type B.\n",
      "There are 13 patients of blood type AB.\n",
      "There are 15 patients of blood type O.\n",
      "There is no patient of blood type OO.\n"
     ]
    }
   ],
   "source": [
    "def bldcount(filename):\n",
    "    blood_types = {'A': 0, 'B': 0, 'AB': 0, 'O': 0, 'OO': 0}\n",
    "\n",
    "    with open(filename, 'r') as file:\n",
    "        for line in file:\n",
    "            blood_type_list = line.strip().split()\n",
    "            for blood_type in blood_type_list:\n",
    "                blood_types[blood_type] += 1\n",
    "\n",
    "    for blood_type, count in blood_types.items():\n",
    "        if count == 1:\n",
    "            print(f\"There is one patient of blood type {blood_type}.\")\n",
    "        elif count == 0:\n",
    "            print(f\"There is no patient of blood type {blood_type}.\")\n",
    "        else:\n",
    "            print(f\"There are {count} patients of blood type {blood_type}.\")\n",
    "\n",
    "bldcount('C:\\\\Users\\\\Gurpreet singh sethi\\\\OneDrive\\\\Desktop\\\\bloodtype1.txt')\n"
   ]
  },
  {
   "cell_type": "markdown",
   "id": "1aa0df7c",
   "metadata": {},
   "source": [
    "# Question 8 Python\n",
    "Write a function curconv() that takes as input:\n",
    "1. a currency represented using a string (e.g., 'JPY' for the Japanese Yen or\n",
    "'EUR' for the Euro)\n",
    "2. an amount\n",
    "and then converts and returns the amount in US dollars.\n",
    ">>> curconv('EUR', 100)\n",
    "122.96544\n",
    ">>> curconv('JPY', 100)\n",
    "1.241401\n",
    "The currency rates you will need are stored in file currencies.txt\n",
    "\n"
   ]
  },
  {
   "cell_type": "code",
   "execution_count": 19,
   "id": "01b52e32",
   "metadata": {},
   "outputs": [
    {
     "name": "stdout",
     "output_type": "stream",
     "text": [
      "122.96544\n",
      "1.241401\n"
     ]
    }
   ],
   "source": [
    "def curconv(currency, amount):\n",
    "    with open('C:\\\\Users\\\\Gurpreet singh sethi\\\\OneDrive\\\\Desktop\\\\currencies.txt', 'r') as file:\n",
    "        for line in file:\n",
    "            parts = line.split()\n",
    "            if parts[0] == currency:\n",
    "                rate = float(parts[1])\n",
    "                usd_amount = amount * rate\n",
    "                return usd_amount\n",
    "\n",
    "    return None\n",
    "\n",
    "usd_amount = curconv('EUR', 100)\n",
    "if usd_amount is not None:\n",
    "    print(usd_amount)\n",
    "else:\n",
    "    print(\"Currency not found\")\n",
    "\n",
    "usd_amount = curconv('JPY', 100)\n",
    "if usd_amount is not None:\n",
    "    print(usd_amount)\n",
    "else:\n",
    "    print(\"Currency not found\")\n"
   ]
  },
  {
   "cell_type": "markdown",
   "id": "777b51dc",
   "metadata": {},
   "source": [
    "# Question 9\n",
    "\n",
    "Each of the following will cause an exception (an error). Identify what type of\n",
    "exception each will cause.\n",
    "Trying to add incompatible variables, as in\n",
    "adding 6 + ‘a’\n",
    "Referring to the 12th item of a list that has only 10\n",
    "items\n",
    "Using a value that is out of range for a function’s\n",
    "input, such as calling math.sqrt(-1.0)\n",
    "Using an undeclared variable, such as print(x)\n",
    "when x has not been defined\n",
    "Trying to open a file that does not exist, such as\n",
    "mistyping the file name or looking in the wrong\n",
    "directory."
   ]
  },
  {
   "cell_type": "code",
   "execution_count": null,
   "id": "bdf794a1",
   "metadata": {},
   "outputs": [],
   "source": [
    "#Answer a : Trying to add incompatible variables, as in adding 6 + 'a':\n",
    "This will cause a TypeError.The interpreter will raise an error because it is not possible to add an integer (6) and\n",
    "a string ('a') together.\n",
    "    \n",
    "#Answer b : Referring to the 12th item of a list that has only 10 items:    \n",
    "This will cause an IndexError. The interpreter will raise an error because the index provided (12) is out of range for\n",
    "the given list. Since the list has only 10 items, valid indices range from 0 to 9.\n",
    "\n",
    "\n",
    "#Answer c : Using a value that is out of range for a function's input, such as calling math.sqrt(-1.0):\n",
    "This will cause a ValueError. The math.sqrt() function expects a non-negative number as its input, so passing a negative \n",
    "value (-1.0) will raise an exception. Square roots of negative numbers are not defined in real numbers, hence the ValueError.\n",
    "\n",
    "#Answer d : Using an undeclared variable, such as print(x) when x has not been defined:\n",
    "This will cause a NameError. The interpreter will raise an exception because the variable 'x' has not been declared or assigned \n",
    "any value. Trying to use an undefined variable will result in a NameError.\n",
    "\n",
    "#Answer e : Trying to open a file that does not exist, such as mistyping the file name or looking in the wrong directory:\n",
    "This will cause a FileNotFoundError (or IOError in some cases). If the file specified in the code does not exist or if there is\n",
    "an error in the file name or directory path, attempting to open the file will raise an exception indicating that the file was\n",
    "not found."
   ]
  },
  {
   "cell_type": "markdown",
   "id": "86d6a32a",
   "metadata": {},
   "source": [
    "# Question 10 Python\n",
    "Encryption is the process of hiding the meaning of a text by substituting letters in the\n",
    "message with other letters, according to some system. If the process is successful, no\n",
    "one but the intended recipient can understand the encrypted message. Cryptanalysis\n",
    "refers to attempts to undo the encryption, even if some details of the encryption are\n",
    "unknown (for example, if an encrypted message has been intercepted). The first step\n",
    "of cryptanalysis is often to build up a table of letter frequencies in the encrypted text.\n",
    "Assume that the string letters is already defined as\n",
    "'abcdefghijklmnopqrstuvwxyz'. Write a function called frequencies()\n",
    "that takes a string as its only parameter, and returns a list of integers, showing the\n",
    "number of times each character appears in the text. Your function may ignore any\n",
    "characters that are not in letters.\n",
    ">>> frequencies('The quick red fox got bored and went home.')\n",
    "[1, 1, 1, 3, 5, 1, 1, 2, 1, 0, 1, 0, 1, 2, 4, 0, 1, 2, 0, 2,\n",
    "1, 0, 1, 1, 0, 0]\n",
    ">>> frequencies('apple')"
   ]
  },
  {
   "cell_type": "code",
   "execution_count": 1,
   "id": "3ebf838c",
   "metadata": {},
   "outputs": [
    {
     "name": "stdout",
     "output_type": "stream",
     "text": [
      "[1, 1, 1, 3, 5, 1, 1, 2, 1, 0, 1, 0, 1, 2, 4, 0, 1, 2, 0, 3, 1, 0, 1, 1, 0, 0]\n",
      "[1, 0, 0, 0, 1, 0, 0, 0, 0, 0, 0, 1, 0, 0, 0, 2, 0, 0, 0, 0, 0, 0, 0, 0, 0, 0]\n"
     ]
    }
   ],
   "source": [
    "def frequencies(text):\n",
    "    letters = 'abcdefghijklmnopqrstuvwxyz'\n",
    "    frequency_list = [0] * len(letters)  # Initialize a list of zeros with the length of letters\n",
    "\n",
    "    # Iterate over each character in the text\n",
    "    for char in text.lower():\n",
    "        if char in letters:\n",
    "            # Increment the count for the corresponding character in the frequency list\n",
    "            index = letters.index(char)\n",
    "            frequency_list[index] += 1\n",
    "\n",
    "    return frequency_list\n",
    "\n",
    "print(frequencies('The quick red fox got bored and went home.'))\n",
    "# Output: [1, 1, 1, 3, 5, 1, 1, 2, 1, 0, 1, 0, 1, 2, 4, 0, 1, 2, 0, 2, 1, 0, 1, 1, 0, 0]\n",
    "\n",
    "print(frequencies('apple'))\n",
    "# Output: [1, 0, 0, 0, 1, 0, 0, 0, 0, 0, 0, 1, 0, 0, 0, 0, 0, 0, 0, 1, 0, 0, 0, 0, 0, 0]\n"
   ]
  }
 ],
 "metadata": {
  "kernelspec": {
   "display_name": "Python 3 (ipykernel)",
   "language": "python",
   "name": "python3"
  },
  "language_info": {
   "codemirror_mode": {
    "name": "ipython",
    "version": 3
   },
   "file_extension": ".py",
   "mimetype": "text/x-python",
   "name": "python",
   "nbconvert_exporter": "python",
   "pygments_lexer": "ipython3",
   "version": "3.10.9"
  }
 },
 "nbformat": 4,
 "nbformat_minor": 5
}
